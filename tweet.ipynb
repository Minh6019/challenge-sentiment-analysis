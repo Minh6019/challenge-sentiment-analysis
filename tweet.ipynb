{
 "cells": [
  {
   "cell_type": "code",
   "execution_count": 16,
   "id": "5fa23ab6",
   "metadata": {},
   "outputs": [],
   "source": [
    "# Imports\n",
    "import tweepy\n",
    "import numpy as np\n",
    "import pandas as pd\n",
    "pd.options.display.max_columns = 100\n",
    "import time\n",
    "import csv"
   ]
  },
  {
   "cell_type": "code",
   "execution_count": 12,
   "id": "d410fdf1",
   "metadata": {},
   "outputs": [],
   "source": [
    "# Credentials\n",
    "\n",
    "consumer_key = \"XXXXXXXXXX\"\n",
    "consumer_secret = \"XXXXXXXXXX\"\n",
    "access_token = \"XXXXXXXXXX\"\n",
    "access_token_secret = \"XXXXXXXXXX\"\n",
    "\n",
    "auth = tweepy.OAuthHandler(consumer_key, consumer_secret)\n",
    "auth.set_access_token(access_token, access_token_secret)\n",
    "api = tweepy.API(auth,wait_on_rate_limit=True)"
   ]
  },
  {
   "cell_type": "code",
   "execution_count": 18,
   "id": "2cd18eb3",
   "metadata": {},
   "outputs": [
    {
     "name": "stdout",
     "output_type": "stream",
     "text": [
      "                                                text  \\\n",
      "0  #Psycho #Murderer #BrianLaundrie and #DirtyLau...   \n",
      "1  #BrianLaundrie #LaundrieParents #LaundrieFamil...   \n",
      "2  Molly has an RSF…. resting sweet face. 😊 #cane...   \n",
      "3  RT @Tilda_Time: Tilda Sweetheart Frida 🌸🌺#tild...   \n",
      "4  RT @Tilda_Time: Greta with her bear Timi 👩🏻‍🦰❤...   \n",
      "\n",
      "                 created_at       user_name      user.location  \\\n",
      "0 2021-10-13 01:45:39+00:00         #JJO'CB      United States   \n",
      "1 2021-10-13 01:39:08+00:00         #JJO'CB      United States   \n",
      "2 2021-10-13 00:05:04+00:00   Firehouse Vet         Austin, TX   \n",
      "3 2021-10-12 23:49:39+00:00       Rose Anne  Merrick, New York   \n",
      "4 2021-10-12 22:26:28+00:00  ZingBetaPrints    Ontario, Canada   \n",
      "\n",
      "  user_screen_name  \n",
      "0        Josseeb11  \n",
      "1        Josseeb11  \n",
      "2  FirehouseAnimal  \n",
      "3   NutmegCottage2  \n",
      "4   ZingBetaPrints  \n"
     ]
    },
    {
     "data": {
      "text/plain": [
       "(60, 5)"
      ]
     },
     "execution_count": 18,
     "metadata": {},
     "output_type": "execute_result"
    }
   ],
   "source": [
    "text_query = '#squidgame'\n",
    "max_tweets = 1000\n",
    "lang = 'en'\n",
    "\n",
    " \n",
    "# Creation of query method using parameters\n",
    "tweets = tweepy.Cursor(api.search_tweets,q=text_query, lang = lang).items(max_tweets)\n",
    " \n",
    "# Pulling information from tweets iterable object\n",
    "# Add or remove tweet information you want in the below list comprehension\n",
    "tweets_list = [[tweet.text, tweet.created_at, tweet.user.name, tweet.user.location, tweet.user.screen_name] for tweet in tweets]\n",
    "column_=['text', 'created_at', 'user_name', 'user.location', 'user_screen_name']\n",
    "\n",
    "# Creation of dataframe from tweets_list\n",
    "# Did not include column names to simplify code \n",
    "tweets_df = pd.DataFrame(tweets_list, columns=column_)\n",
    "\n",
    "# Converting dataframe to CSV \n",
    "tweets_df.to_csv(\"./data/User_Netflix_squidgame_00.csv\")\n",
    "\n",
    "print(tweets_df.head())\n",
    "tweets_df.shape\n",
    "\n"
   ]
  }
 ],
 "metadata": {
  "kernelspec": {
   "display_name": "tf",
   "language": "python",
   "name": "tf"
  },
  "language_info": {
   "codemirror_mode": {
    "name": "ipython",
    "version": 3
   },
   "file_extension": ".py",
   "mimetype": "text/x-python",
   "name": "python",
   "nbconvert_exporter": "python",
   "pygments_lexer": "ipython3",
   "version": "3.7.11"
  },
  "toc": {
   "base_numbering": 1,
   "nav_menu": {},
   "number_sections": true,
   "sideBar": true,
   "skip_h1_title": false,
   "title_cell": "Table of Contents",
   "title_sidebar": "Contents",
   "toc_cell": false,
   "toc_position": {},
   "toc_section_display": true,
   "toc_window_display": false
  }
 },
 "nbformat": 4,
 "nbformat_minor": 5
}
